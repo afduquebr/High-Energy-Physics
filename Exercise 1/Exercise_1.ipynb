{
 "cells": [
  {
   "cell_type": "markdown",
   "metadata": {},
   "source": [
    "# Tracks and Clusters\n",
    "Autor: Andrés Felipe Duque Bran\n",
    "\n",
    "***\n",
    "## Descripción\n",
    "Este *Notebook* contiene la solución del primer ejercicio de análisis de datos empleando el framework *ROOT*."
   ]
  },
  {
   "cell_type": "code",
   "execution_count": 16,
   "metadata": {},
   "outputs": [],
   "source": [
    "import ROOT"
   ]
  },
  {
   "cell_type": "code",
   "execution_count": 17,
   "metadata": {},
   "outputs": [],
   "source": [
    "# Open ROOT file\n",
    "f = ROOT.TFile.Open(\"Tracks_Clusters.root\")"
   ]
  },
  {
   "cell_type": "code",
   "execution_count": 48,
   "metadata": {},
   "outputs": [
    {
     "name": "stderr",
     "output_type": "stream",
     "text": [
      "Warning in <TCanvas::Constructor>: Deleting canvas with same name: Canvas\n"
     ]
    }
   ],
   "source": [
    "# Set Canvas\n",
    "canvas = ROOT.TCanvas(\"Canvas\",\"a first way to plot a variable\",1600,1200)"
   ]
  },
  {
   "cell_type": "code",
   "execution_count": 49,
   "metadata": {},
   "outputs": [],
   "source": [
    "# Get the tree\n",
    "tree = f.Get(\"JetRecoTree\")"
   ]
  },
  {
   "cell_type": "code",
   "execution_count": 50,
   "metadata": {},
   "outputs": [
    {
     "name": "stderr",
     "output_type": "stream",
     "text": [
      "Warning in <TFile::Append>: Replacing existing TH1: Mu Average (Potential memory leak).\n",
      "Warning in <TFile::Append>: Replacing existing TH1: NPV vs Mu Average (Potential memory leak).\n",
      "Warning in <TFile::Append>: Replacing existing TH1: NPV vs nTracks (Potential memory leak).\n",
      "Warning in <TFile::Append>: Replacing existing TH1: NPV vs nClusters (Potential memory leak).\n",
      "Warning in <TFile::Append>: Replacing existing TH1: Mu Average vs nTracks (Potential memory leak).\n",
      "Warning in <TFile::Append>: Replacing existing TH1: Mu Average vs nClusters (Potential memory leak).\n"
     ]
    }
   ],
   "source": [
    "# Set Histograms\n",
    "\n",
    "# Mu Average\n",
    "hist_mu_average = ROOT.TH1F(\n",
    "    \"Mu Average\",\n",
    "    \"Number of Average Interactions per Bunch-Crossing; Mu Average; Number of Events\",\n",
    "    45,\n",
    "    1,\n",
    "    90\n",
    ")\n",
    "\n",
    "# NPV vs Mu Average\n",
    "hist_NPV_mu_average = ROOT.TH2F(\n",
    "    \"NPV vs Mu Average\",\n",
    "    \"Number of primary vertices vs Average events; NPV; Mu Average; Number of Events\",\n",
    "    50,\n",
    "    1,\n",
    "    50,\n",
    "    50,\n",
    "    1,\n",
    "    90\n",
    ")\n",
    "\n",
    "# NPV vs Number of Tracks\n",
    "hist_NPV_nTracks = ROOT.TH2F(\n",
    "    \"NPV vs nTracks\",\n",
    "    \"Number of primary vertices vs Number of Tracks; NPV; Number of Tracks; Number of Events\",\n",
    "    50,\n",
    "    1,\n",
    "    50,\n",
    "    50,\n",
    "    0,\n",
    "    1000\n",
    ")\n",
    "\n",
    "# NPV vs Number of Clusters\n",
    "hist_NPV_nClusters = ROOT.TH2F(\n",
    "    \"NPV vs nClusters\",\n",
    "    \"Number of primary vertices vs Number of Clusters; NPV; Number of Clusters; Number of Events\",\n",
    "    50,\n",
    "    1,\n",
    "    50,\n",
    "    50,\n",
    "    0,\n",
    "    1000\n",
    ")\n",
    "\n",
    "# Mu Average vs Number of Tracks\n",
    "hist_mu_average_nTracks = ROOT.TH2F(\n",
    "    \"Mu Average vs nTracks\",\n",
    "    \"Mu Average vs Number of Tracks; Mu Average; Number of Tracks; Number of Events\",\n",
    "    45,\n",
    "    1,\n",
    "    90,\n",
    "    50,\n",
    "    0,\n",
    "    1000\n",
    ")\n",
    "\n",
    "# Mu Average vs Number of Clusters\n",
    "hist_mu_average_nClusters = ROOT.TH2F(\n",
    "    \"Mu Average vs nClusters\",\n",
    "    \"Mu Average vs Number of Clusters; Mu Average; Number of Clusters; Number of Events\",\n",
    "    45,\n",
    "    1,\n",
    "    90,\n",
    "    50,\n",
    "    0,\n",
    "    1000\n",
    ")"
   ]
  },
  {
   "cell_type": "code",
   "execution_count": 51,
   "metadata": {},
   "outputs": [],
   "source": [
    "# Fill the Histograms\n",
    "for event in tree:\n",
    "    hist_mu_average.Fill(tree.mu_average)\n",
    "    hist_NPV_mu_average.Fill(tree.NPV, tree.mu_average)\n",
    "    hist_NPV_nTracks.Fill(tree.NPV, tree.Tracks_pt.size())\n",
    "    hist_NPV_nClusters.Fill(tree.NPV, tree.Clusters_pt.size())\n",
    "    hist_mu_average_nTracks.Fill(tree.mu_average, tree.Tracks_pt.size())\n",
    "    hist_mu_average_nClusters.Fill(tree.mu_average, tree.Clusters_pt.size())"
   ]
  },
  {
   "cell_type": "code",
   "execution_count": 52,
   "metadata": {},
   "outputs": [
    {
     "name": "stderr",
     "output_type": "stream",
     "text": [
      "Info in <TCanvas::Print>: pdf file MuAverage.pdf has been created\n",
      "Info in <TCanvas::Print>: pdf file NPV_MuAverage.pdf has been created\n",
      "Info in <TCanvas::Print>: pdf file NPV_nTracks.pdf has been created\n",
      "Info in <TCanvas::Print>: pdf file NPV_nClusters.pdf has been created\n",
      "Info in <TCanvas::Print>: pdf file MuAverage_nTracks.pdf has been created\n",
      "Info in <TCanvas::Print>: pdf file MuAverage_nClusters.pdf has been created\n"
     ]
    }
   ],
   "source": [
    "# Draw Histograms\n",
    "\n",
    "# Mu Average\n",
    "hist_mu_average.SetFillColor(3)\n",
    "hist_mu_average.Draw()\n",
    "canvas.Print(\"MuAverage.pdf\")\n",
    "canvas.Clear()\n",
    "\n",
    "# NPV vs Mu Average\n",
    "hist_NPV_mu_average.Draw(\"COLZ\")\n",
    "canvas.Print(\"NPV_MuAverage.pdf\")\n",
    "canvas.Clear() \n",
    "\n",
    "# NPV vs Number of Tracks\n",
    "hist_NPV_nTracks.Draw(\"COLZ\")\n",
    "canvas.Print(\"NPV_nTracks.pdf\")\n",
    "canvas.Clear() \n",
    "\n",
    "# NPV vs Number of Clusters\n",
    "hist_NPV_nClusters.Draw(\"COLZ\")\n",
    "canvas.Print(\"NPV_nClusters.pdf\")\n",
    "canvas.Clear() \n",
    "\n",
    "# Mu Average vs Number of Tracks\n",
    "hist_mu_average_nTracks.Draw(\"COLZ\")\n",
    "canvas.Print(\"MuAverage_nTracks.pdf\")\n",
    "canvas.Clear() \n",
    "\n",
    "# Mu Average vs Number of Clusters\n",
    "hist_mu_average_nClusters.Draw(\"COLZ\")\n",
    "canvas.Print(\"MuAverage_nClusters.pdf\")\n",
    "canvas.Clear() \n"
   ]
  },
  {
   "cell_type": "code",
   "execution_count": null,
   "metadata": {},
   "outputs": [],
   "source": []
  },
  {
   "cell_type": "code",
   "execution_count": null,
   "metadata": {},
   "outputs": [],
   "source": []
  }
 ],
 "metadata": {
  "kernelspec": {
   "display_name": "Python 3",
   "language": "python",
   "name": "python3"
  },
  "language_info": {
   "codemirror_mode": {
    "name": "ipython",
    "version": 3
   },
   "file_extension": ".py",
   "mimetype": "text/x-python",
   "name": "python",
   "nbconvert_exporter": "python",
   "pygments_lexer": "ipython3",
   "version": "3.6.9"
  }
 },
 "nbformat": 4,
 "nbformat_minor": 2
}
